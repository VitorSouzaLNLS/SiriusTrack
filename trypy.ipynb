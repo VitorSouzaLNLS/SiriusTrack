{
 "cells": [
  {
   "cell_type": "code",
   "execution_count": 160,
   "metadata": {},
   "outputs": [],
   "source": [
    "import pyaccel as pa\n",
    "from pymodels import si\n",
    "import numpy as np\n",
    "from matplotlib import pyplot as plt"
   ]
  },
  {
   "cell_type": "code",
   "execution_count": 161,
   "metadata": {},
   "outputs": [],
   "source": [
    "m = si.create_accelerator()\n",
    "m.radiation_on = 1\n",
    "# m.cavity_on = True\n",
    "# m.vchamber_on = True"
   ]
  },
  {
   "cell_type": "code",
   "execution_count": 162,
   "metadata": {},
   "outputs": [
    {
     "name": "stdout",
     "output_type": "stream",
     "text": [
      "energy         : 3000000000.0 eV\n",
      "harmonic_number: 864\n",
      "cavity_on      : False\n",
      "radiation_on   : 1\n",
      "vchamber_on    : False\n",
      "lattice version: SI_V25_04_v1.18.1\n",
      "lattice size   : 6549\n",
      "lattice length : 518.3898999999925 m\n"
     ]
    }
   ],
   "source": [
    "print(m)"
   ]
  },
  {
   "cell_type": "code",
   "execution_count": 163,
   "metadata": {},
   "outputs": [],
   "source": [
    "from time import time"
   ]
  },
  {
   "cell_type": "code",
   "execution_count": 164,
   "metadata": {},
   "outputs": [],
   "source": [
    "import trackcpp"
   ]
  },
  {
   "cell_type": "code",
   "execution_count": 165,
   "metadata": {},
   "outputs": [],
   "source": [
    "p = np.array([1, 2, 3, 4, 5, 6]) * 1e-7"
   ]
  },
  {
   "cell_type": "code",
   "execution_count": 166,
   "metadata": {},
   "outputs": [
    {
     "data": {
      "text/plain": [
       "(array([[ 3.17572122e-05],\n",
       "        [ 2.37248426e-07],\n",
       "        [ 1.49718476e-06],\n",
       "        [ 6.19668829e-08],\n",
       "        [-1.56245068e-02],\n",
       "        [-6.50160028e-02]]),\n",
       " (100, 6549),\n",
       " 0.689549446105957)"
      ]
     },
     "execution_count": 166,
     "metadata": {},
     "output_type": "execute_result"
    }
   ],
   "source": [
    "nr_turns = 100\n",
    "timing = np.zeros((nr_turns, len(m)))\n",
    "p = np.array([1, 2, 3, 4, 5, 6]) * 1e-7\n",
    "pcpp = p\n",
    "for i in range(nr_turns):\n",
    "    for j, e in enumerate(m):\n",
    "        pcpp = pcpp.reshape((6,-1))\n",
    "        t = time()\n",
    "        #p = pa.tracking.element_pass(e, p, 3e9, harmonic_number=864, cavity_on=True, vchamber_on=True, radiation_on=True)\n",
    "        trackcpp.track_elementpass_wrapper(e.trackcpp_e, pcpp, m.trackcpp_acc)\n",
    "        tf = time()\n",
    "        timing[i, j] = tf-t\n",
    "pcpp, timing.shape, np.sum(timing.ravel())"
   ]
  }
 ],
 "metadata": {
  "kernelspec": {
   "display_name": "sirius",
   "language": "python",
   "name": "python3"
  },
  "language_info": {
   "codemirror_mode": {
    "name": "ipython",
    "version": 3
   },
   "file_extension": ".py",
   "mimetype": "text/x-python",
   "name": "python",
   "nbconvert_exporter": "python",
   "pygments_lexer": "ipython3",
   "version": "3.9.2"
  }
 },
 "nbformat": 4,
 "nbformat_minor": 2
}
